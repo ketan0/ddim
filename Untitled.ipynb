{
 "cells": [
  {
   "cell_type": "code",
   "execution_count": 1,
   "id": "d5433396",
   "metadata": {},
   "outputs": [],
   "source": [
    "from models.diffusion import Model\n",
    "import yaml\n",
    "import os\n",
    "import argparse\n",
    "import torch"
   ]
  },
  {
   "cell_type": "code",
   "execution_count": 2,
   "id": "08804415",
   "metadata": {
    "scrolled": true
   },
   "outputs": [
    {
     "data": {
      "text/plain": [
       "argparse.Namespace"
      ]
     },
     "execution_count": 2,
     "metadata": {},
     "output_type": "execute_result"
    }
   ],
   "source": [
    "def dict2namespace(config):\n",
    "    namespace = argparse.Namespace()\n",
    "    for key, value in config.items():\n",
    "        if isinstance(value, dict):\n",
    "            new_value = dict2namespace(value)\n",
    "        else:\n",
    "            new_value = value\n",
    "        setattr(namespace, key, new_value)\n",
    "    return namespace\n",
    "\n",
    "\n",
    "with open(os.path.join(\"configs\", 'lpd.yml'), \"r\") as f:\n",
    "    config = yaml.safe_load(f)\n",
    "config = dict2namespace(config)\n",
    "type(config)"
   ]
  },
  {
   "cell_type": "code",
   "execution_count": 3,
   "id": "8d900547",
   "metadata": {},
   "outputs": [],
   "source": [
    "model = Model(config)"
   ]
  },
  {
   "cell_type": "code",
   "execution_count": 4,
   "id": "b8c576f5",
   "metadata": {},
   "outputs": [
    {
     "name": "stderr",
     "output_type": "stream",
     "text": [
      "[W NNPACK.cpp:79] Could not initialize NNPACK! Reason: Unsupported hardware.\n"
     ]
    }
   ],
   "source": [
    "n = 1\n",
    "t = torch.randint(\n",
    "    low=0, high=10, size=(n // 2 + 1,)\n",
    ")\n",
    "t = torch.cat([t, 10 - t - 1], dim=0)[:n]\n",
    "t = t.float()\n",
    "out = model(torch.randn(n, 1, 128, 128), t)"
   ]
  },
  {
   "cell_type": "code",
   "execution_count": 5,
   "id": "12caa438",
   "metadata": {},
   "outputs": [
    {
     "data": {
      "text/plain": [
       "torch.Size([1, 1, 128, 128])"
      ]
     },
     "execution_count": 5,
     "metadata": {},
     "output_type": "execute_result"
    }
   ],
   "source": [
    "out.shape"
   ]
  },
  {
   "cell_type": "code",
   "execution_count": null,
   "id": "7c04b63c",
   "metadata": {},
   "outputs": [],
   "source": []
  }
 ],
 "metadata": {
  "kernelspec": {
   "display_name": "Python (cs236_proj)",
   "language": "python",
   "name": "cs236_proj"
  },
  "language_info": {
   "codemirror_mode": {
    "name": "ipython",
    "version": 3
   },
   "file_extension": ".py",
   "mimetype": "text/x-python",
   "name": "python",
   "nbconvert_exporter": "python",
   "pygments_lexer": "ipython3",
   "version": "3.9.7"
  }
 },
 "nbformat": 4,
 "nbformat_minor": 5
}
