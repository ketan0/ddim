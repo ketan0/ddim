{
 "cells": [
  {
   "cell_type": "code",
   "execution_count": 1,
   "id": "141ded3a-1c62-4bb8-a1be-b2d88e76d48a",
   "metadata": {},
   "outputs": [],
   "source": [
    "import numpy as np"
   ]
  },
  {
   "cell_type": "code",
   "execution_count": 5,
   "id": "63412d49-7e5c-4243-9ff4-eb3b6f76978f",
   "metadata": {},
   "outputs": [],
   "source": [
    "toy_x = np.random.rand(2, 32, 42)\n",
    "np.save('/Users/ketanagrawal/cs236_final_proj/ddim/datasets/lpd_toy_data.npy', toy_x)"
   ]
  }
 ],
 "metadata": {
  "kernelspec": {
   "display_name": "Python [conda env:root] *",
   "language": "python",
   "name": "conda-root-py"
  },
  "language_info": {
   "codemirror_mode": {
    "name": "ipython",
    "version": 3
   },
   "file_extension": ".py",
   "mimetype": "text/x-python",
   "name": "python",
   "nbconvert_exporter": "python",
   "pygments_lexer": "ipython3",
   "version": "3.7.12"
  }
 },
 "nbformat": 4,
 "nbformat_minor": 5
}
