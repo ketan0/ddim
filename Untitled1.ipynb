{
 "cells": [
  {
   "cell_type": "code",
   "execution_count": 5,
   "id": "aae2fb5b-810a-4b11-b5da-baf2e5c84803",
   "metadata": {},
   "outputs": [],
   "source": [
    "import re\n",
    "import matplotlib.pyplot as plt"
   ]
  },
  {
   "cell_type": "code",
   "execution_count": 10,
   "id": "f823c419-453d-46e6-a87a-3bfa011bd8da",
   "metadata": {},
   "outputs": [
    {
     "data": {
      "text/plain": [
       "'loss: 24085.904296875'"
      ]
     },
     "execution_count": 10,
     "metadata": {},
     "output_type": "execute_result"
    }
   ],
   "source": [
    "re.search(r'loss: \\d+\\.\\d+', \n",
    "          'INFO - diffusion.py - 2021-12-04 03:54:55,109 - step: 1, loss: 24085.904296875, data time: 0.005837202072143555'\n",
    "         )[0]"
   ]
  },
  {
   "cell_type": "code",
   "execution_count": 18,
   "id": "f9ab265b-2626-416e-aa49-f63976aebe0b",
   "metadata": {},
   "outputs": [],
   "source": [
    "fp = './logs/lpd_baseline/stdout.txt'\n",
    "with open(fp) as f:\n",
    "    lines = f.readlines()\n",
    "\n",
    "def extract_loss(line):\n",
    "    match = re.search(r'loss: (\\d+\\.\\d+)', line)\n",
    "    if match is None:\n",
    "        return None\n",
    "    return float(match[1])\n",
    "        \n",
    "losses = [extract_loss(line) for line in lines]\n",
    "losses = [l for l in losses if l is not None]"
   ]
  },
  {
   "cell_type": "code",
   "execution_count": 28,
   "id": "893c7ad3-83cc-4a9d-b01a-b2716c7d5b3b",
   "metadata": {},
   "outputs": [
    {
     "data": {
      "image/png": "[encoded data removed]",
      "text/plain": [
       "<Figure size 432x288 with 1 Axes>"
      ]
     },
     "metadata": {
      "needs_background": "light"
     },
     "output_type": "display_data"
    }
   ],
   "source": [
    "plt.xlabel('iteration')\n",
    "plt.ylabel('loss')\n",
    "plt.plot(losses)\n",
    "plt.savefig('loss.png')"
   ]
  }
 ],
 "metadata": {
  "kernelspec": {
   "display_name": "Python [conda env:root] *",
   "language": "python",
   "name": "conda-root-py"
  },
  "language_info": {
   "codemirror_mode": {
    "name": "ipython",
    "version": 3
   },
   "file_extension": ".py",
   "mimetype": "text/x-python",
   "name": "python",
   "nbconvert_exporter": "python",
   "pygments_lexer": "ipython3",
   "version": "3.7.12"
  }
 },
 "nbformat": 4,
 "nbformat_minor": 5
}
