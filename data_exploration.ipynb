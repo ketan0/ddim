{
 "cells": [
  {
   "cell_type": "code",
   "execution_count": 2,
   "id": "3a17e9a0-2242-4ea5-beae-c4fc29920dbe",
   "metadata": {},
   "outputs": [],
   "source": [
    "import numpy as np\n",
    "from glob import glob\n",
    "import random\n",
    "import os\n",
    "import matplotlib.pyplot as plt"
   ]
  },
  {
   "cell_type": "code",
   "execution_count": 3,
   "id": "05e53bf6-e564-4cd7-a42d-615b8ebe8e72",
   "metadata": {},
   "outputs": [],
   "source": [
    "data_dir = '/home/ketanagrawal/ddim/datasets/lpd_square_data/'"
   ]
  },
  {
   "cell_type": "code",
   "execution_count": 8,
   "id": "ca515623-1fd3-4529-92df-808793718f3d",
   "metadata": {},
   "outputs": [
    {
     "name": "stdout",
     "output_type": "stream",
     "text": [
      "[0 1]\n",
      "[(0, 66), (0, 69), (0, 73), (1, 66), (1, 69), (1, 73), (2, 66), (2, 69), (2, 73), (3, 66), (3, 69), (3, 73), (4, 66), (4, 69), (4, 73), (5, 66), (5, 69), (5, 73), (6, 66), (6, 69), (6, 73), (7, 66), (7, 69), (7, 73), (8, 66), (8, 69), (8, 73), (9, 66), (9, 69), (9, 73), (10, 66), (10, 69), (10, 73), (11, 66), (11, 69), (11, 73), (12, 66), (12, 69), (12, 73), (13, 66), (13, 69), (13, 73), (14, 66), (14, 69), (14, 73), (15, 66), (15, 69), (15, 73), (16, 66), (16, 69), (16, 73), (17, 66), (17, 69), (17, 73), (18, 66), (18, 69), (18, 73), (19, 66), (19, 69), (19, 73), (20, 66), (20, 69), (20, 73), (21, 66), (21, 69), (21, 73), (22, 66), (22, 69), (22, 73), (23, 66), (23, 69), (23, 73), (24, 66), (24, 69), (24, 73), (25, 66), (25, 69), (25, 73), (26, 66), (26, 69), (26, 73), (27, 66), (27, 69), (27, 73), (28, 66), (28, 69), (28, 73), (29, 66), (29, 69), (29, 73), (30, 66), (30, 69), (30, 73), (31, 66), (31, 69), (31, 73), (32, 66), (32, 69), (32, 73), (33, 66), (33, 69), (33, 73), (34, 66), (34, 69), (34, 73), (35, 66), (35, 69), (35, 73), (36, 66), (36, 69), (36, 73), (37, 66), (37, 69), (37, 73), (38, 66), (38, 69), (38, 73), (39, 66), (39, 69), (39, 73), (40, 66), (40, 69), (40, 73), (41, 66), (41, 69), (41, 73), (42, 66), (42, 69), (42, 73), (43, 66), (43, 69), (43, 73), (44, 66), (44, 69), (44, 73), (45, 66), (45, 69), (45, 73), (46, 66), (46, 69), (46, 73), (47, 66), (47, 69), (47, 73), (48, 66), (48, 69), (48, 73), (49, 66), (49, 69), (49, 73), (50, 66), (50, 69), (50, 73), (51, 66), (51, 69), (51, 73), (52, 66), (52, 69), (52, 73), (53, 66), (53, 69), (53, 73), (54, 66), (54, 69), (54, 73), (55, 66), (55, 69), (55, 73), (56, 66), (56, 69), (56, 73), (57, 66), (57, 69), (57, 73), (58, 66), (58, 69), (58, 73), (59, 66), (59, 69), (59, 73), (60, 66), (60, 69), (60, 73), (61, 66), (61, 69), (61, 73), (62, 66), (62, 69), (62, 73), (63, 66), (63, 69), (63, 73), (64, 66), (64, 69), (64, 73), (65, 66), (65, 69), (65, 73), (66, 66), (66, 69), (66, 73), (67, 66), (67, 69), (67, 73), (68, 66), (68, 69), (68, 73), (69, 66), (69, 69), (69, 73), (70, 66), (70, 69), (70, 73), (71, 66), (71, 69), (71, 73), (72, 66), (72, 69), (72, 73), (73, 66), (73, 69), (73, 73), (74, 66), (74, 69), (74, 73), (75, 66), (75, 69), (75, 73), (76, 66), (76, 69), (76, 73), (77, 66), (77, 69), (77, 73), (78, 66), (78, 69), (78, 73), (79, 66), (79, 69), (79, 73), (80, 66), (80, 69), (80, 73), (81, 66), (81, 69), (81, 73), (82, 66), (82, 69), (82, 73), (83, 66), (83, 69), (83, 73), (84, 66), (84, 69), (84, 73), (85, 66), (85, 69), (85, 73), (86, 66), (86, 69), (87, 66), (88, 66), (89, 66), (96, 59), (96, 61), (97, 59), (97, 61), (98, 59), (98, 61), (99, 59), (99, 61), (100, 59), (100, 61), (101, 59), (101, 61), (102, 59), (102, 61), (103, 59), (103, 61), (104, 59), (104, 61), (105, 59), (105, 61), (106, 59), (106, 61), (107, 59), (107, 61), (108, 59), (108, 61), (109, 59), (109, 61), (110, 59), (110, 61), (111, 59), (111, 61), (112, 59), (112, 61), (113, 59), (113, 61), (114, 59), (114, 61), (115, 59), (115, 61), (116, 59), (116, 61), (117, 59), (117, 61), (118, 59), (118, 61), (119, 59), (119, 61), (120, 59), (120, 61), (121, 59), (121, 61), (122, 59), (122, 61), (123, 59), (123, 61), (124, 59), (124, 61), (125, 59), (125, 61), (126, 59), (126, 61), (127, 59), (127, 61)]\n"
     ]
    },
    {
     "data": {
      "image/png": "[encoded data removed]",
      "text/plain": [
       "<Figure size 432x288 with 1 Axes>"
      ]
     },
     "metadata": {
      "needs_background": "light"
     },
     "output_type": "display_data"
    }
   ],
   "source": [
    "seg_fps = glob(os.path.join(data_dir, '*.npy'))\n",
    "test = np.load(random.choice(seg_fps))\n",
    "print(np.unique(test))\n",
    "print(list(zip(*np.where(test == 1))))\n",
    "plt.imshow(test.T)\n",
    "plt.savefig('test1.png')"
   ]
  }
 ],
 "metadata": {
  "kernelspec": {
   "display_name": "Python [conda env:root] *",
   "language": "python",
   "name": "conda-root-py"
  },
  "language_info": {
   "codemirror_mode": {
    "name": "ipython",
    "version": 3
   },
   "file_extension": ".py",
   "mimetype": "text/x-python",
   "name": "python",
   "nbconvert_exporter": "python",
   "pygments_lexer": "ipython3",
   "version": "3.7.12"
  }
 },
 "nbformat": 4,
 "nbformat_minor": 5
}
